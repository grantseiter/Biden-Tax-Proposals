{
 "cells": [
  {
   "cell_type": "code",
   "execution_count": 7,
   "metadata": {},
   "outputs": [
    {
     "name": "stdout",
     "output_type": "stream",
     "text": [
      "/Users/grantseiter/Dropbox/github/Biden-Tax-Proposals/Tax-Calculator-3.0.0\n"
     ]
    }
   ],
   "source": [
    "import os\n",
    "MacOSPath = \"/Users/grantseiter/Dropbox/github/Biden-Tax-Proposals/Tax-Calculator-3.0.0/\"\n",
    "MsWinPath = \"C:\\\\Users\\\\grant.seiter\\\\Dropbox\\\\github\\\\Biden-Tax-Proposals\\\\Tax-Calculator-3.0.0\\\\\"\n",
    "os.chdir(MacOSPath)\n",
    "workdir = os.getcwd()\n",
    "print (workdir)\n",
    "from taxcalc import *\n",
    "import pandas as pd\n",
    "import numpy as np\n",
    "import copy \n",
    "import matplotlib.pyplot as plt"
   ]
  },
  {
   "cell_type": "markdown",
   "metadata": {},
   "source": [
    "### Step 1: Create dataframes of all vars"
   ]
  },
  {
   "cell_type": "code",
   "execution_count": 8,
   "metadata": {},
   "outputs": [],
   "source": [
    "#  CHNAGE THE BELOW REFORM JSON and YEAR TO DESIRED ANALYSIS FRAMEWORK\n",
    "\n",
    "cyr = 2030\n",
    "rec = Records()\n",
    "pol = Policy()\n",
    "pol.implement_reform(Policy.read_json_reform('../reforms/biden-iitax-reforms.json'))\n",
    "calc= Calculator(pol, rec)\n",
    "calc.advance_to_year(cyr)\n",
    "calc.calc_all()\n",
    "df = calc.dataframe([], all_vars=True)\n",
    "\n",
    "# create variables needed in tau_nc construction outside of loop\n",
    "df['net_bus_inc'] = (df['e02000'] - df['e26270']) + df['e00900p']\n",
    "\n",
    "df['mtrC'] = np.where((df['c04800'] > 0) & (df['net_bus_inc'] > 0), calc.mtr(variable_str='e00900p', wrt_full_compensation=False)[1], 0)\n",
    "df['mtrE1'] = np.where((df['c04800'] > 0) & (df['net_bus_inc'] > 0), calc.mtr(variable_str='e02000', wrt_full_compensation=False)[1], 0)\n",
    "df['mtrE2'] = np.where((df['c04800'] > 0) & (df['net_bus_inc'] > 0), calc.mtr(variable_str='e26270', wrt_full_compensation=False)[1], 0)\n",
    "df['mtrE'] = df['mtrE1'] - df['mtrE2']\n",
    "\n",
    "df['mtr_net_bus_inc'] = df['mtrE'] + df['mtrC']\n",
    "df['weight_net_bus_inc'] = np.where((df['c04800'] > 0) & (df['net_bus_inc']>0), df['net_bus_inc']/(df['net_bus_inc'].sum()),0)\n",
    "df['w_net_bus_inc'] = np.where((df['c04800'] > 0) & (df['net_bus_inc']>0), df['mtr_net_bus_inc'] * df['weight_net_bus_inc'],0)\n",
    "\n",
    "# loop for rest of variables\n",
    "def make_mtrs(df, var):\n",
    "    df['mtr_' + var] = np.where((df['c04800'] > 0) & (df[var]>0), calc.mtr(variable_str=var, wrt_full_compensation=False)[1], 0)\n",
    "    df['weight_' + var] = np.where((df['c04800'] > 0) & (df[var]>0), df[var]/(df[var].sum()),0)\n",
    "    df['w_' + var] = np.where((df['c04800'] > 0) & (df[var]>0), df['mtr_' + var] * df['weight_' + var],0)\n",
    "    return df\n",
    "\n",
    "for var in ['e00650', 'e00300', 'p22250', 'p23250', 'e01700','e00200p']:\n",
    "    make_mtrs(df, var)"
   ]
  },
  {
   "cell_type": "markdown",
   "metadata": {},
   "source": [
    "### Step 2: Create tau parameters from dataframe"
   ]
  },
  {
   "cell_type": "code",
   "execution_count": 9,
   "metadata": {},
   "outputs": [
    {
     "data": {
      "text/plain": [
       "{'tau_wages': 0.2615570975722658,\n",
       " 'tau_interest': 0.3501197033722555,\n",
       " 'tau_dividends': 0.23576880808217743,\n",
       " 'tau_ltcapgain': 0.302696552046099,\n",
       " 'tau_stcapgain': 0.360018242929579,\n",
       " 'tau_taxdef': 0.2519422134315737,\n",
       " 'tau_businc': 0.28690800605154393}"
      ]
     },
     "execution_count": 9,
     "metadata": {},
     "output_type": "execute_result"
    }
   ],
   "source": [
    "# create weights\n",
    "df = df.assign(wage_weight = (df['e00200p'] * df['s006']) / sum(df['e00200p'] * df['s006']))\n",
    "df = df.assign(interest_weight = (df['e00300'] * df['s006']) / sum(df['e00300'] * df['s006']))\n",
    "df = df.assign(dividend_weight = (df['e00650'] * df['s006']) / sum(df['e00650'] * df['s006']))\n",
    "df = df.assign(ltgains_weight = (df['p23250'] * df['s006']) / sum(df['p23250'] * df['s006']))\n",
    "df = df.assign(stgains_weight = (df['p22250'] * df['s006']) / sum(df['p22250'] * df['s006']))\n",
    "df = df.assign(pension_weight = (df['e01700'] * df['s006']) / sum(df['e01700'] * df['s006']))\n",
    "df = df.assign(business_weight = (df['net_bus_inc'] * df['s006']) / sum(df['net_bus_inc'] * df['s006']))\n",
    "\n",
    "# \n",
    "df.loc[(df['e00200p'] > 0) & (df['c04800'] > 0), 'wage_weight'] = (df.loc[(df['e00200p'] > 0) & (df['c04800'] > 0), 'e00200p'] * df.loc[(df['e00200p'] > 0) & (df['c04800'] > 0), 's006']) \\\n",
    "/ sum(df.loc[(df['e00200p'] > 0) & (df['c04800'] > 0), 'e00200p'] * df.loc[(df['e00200p'] > 0) & (df['c04800'] > 0), 's006'])\n",
    "\n",
    "df.loc[(df['e00300'] > 0) & (df['c04800'] > 0), 'interest_weight'] = (df.loc[(df['e00300'] > 0) & (df['c04800'] > 0), 'e00300'] * df.loc[(df['e00300'] > 0) & (df['c04800'] > 0), 's006']) \\\n",
    "/ sum(df.loc[(df['e00300'] > 0) & (df['c04800'] > 0), 'e00300'] * df.loc[(df['e00300'] > 0) & (df['c04800'] > 0), 's006'])\n",
    "\n",
    "df.loc[(df['e00650'] > 0) & (df['c04800'] > 0), 'dividend_weight'] = (df.loc[(df['e00650'] > 0) & (df['c04800'] > 0), 'e00650'] * df.loc[(df['e00650'] > 0) & (df['c04800'] > 0), 's006']) \\\n",
    "/ sum(df.loc[(df['e00650'] > 0) & (df['c04800'] > 0), 'e00650'] * df.loc[(df['e00650'] > 0) & (df['c04800'] > 0), 's006'])\n",
    "\n",
    "df.loc[(df['p23250'] > 0) & (df['c04800'] > 0), 'ltgains_weight'] = (df.loc[(df['p23250'] > 0) & (df['c04800'] > 0), 'p23250'] * df.loc[(df['p23250'] > 0) & (df['c04800'] > 0), 's006']) \\\n",
    "/ sum(df.loc[(df['p23250'] > 0) & (df['c04800'] > 0), 'p23250'] * df.loc[(df['p23250'] > 0) & (df['c04800'] > 0), 's006'])\n",
    "\n",
    "df.loc[(df['p22250'] > 0) & (df['c04800'] > 0), 'stgains_weight'] = (df.loc[(df['p22250'] > 0) & (df['c04800'] > 0), 'p22250'] * df.loc[(df['p22250'] > 0) & (df['c04800'] > 0), 's006']) \\\n",
    "/ sum(df.loc[(df['p22250'] > 0) & (df['c04800'] > 0), 'p22250'] * df.loc[(df['p22250'] > 0) & (df['c04800'] > 0), 's006'])\n",
    "\n",
    "df.loc[(df['e01700'] > 0) & (df['c04800'] > 0), 'pension_weight'] = (df.loc[(df['e01700'] > 0) & (df['c04800'] > 0), 'e01700'] * df.loc[(df['e01700'] > 0) & (df['c04800'] > 0), 's006']) \\\n",
    "/ sum(df.loc[(df['e01700'] > 0) & (df['c04800'] > 0), 'e01700'] * df.loc[(df['e01700'] > 0) & (df['c04800'] > 0), 's006'])\n",
    "\n",
    "df.loc[(df['net_bus_inc'] > 0) & (df['c04800'] > 0), 'business_weight'] = (df.loc[(df['net_bus_inc'] > 0) & (df['c04800'] > 0), 'net_bus_inc'] * df.loc[(df['net_bus_inc'] > 0) & (df['c04800'] > 0), 's006']) \\\n",
    "/ sum(df.loc[(df['net_bus_inc'] > 0) & (df['c04800'] > 0), 'net_bus_inc'] * df.loc[(df['net_bus_inc'] > 0) & (df['c04800'] > 0), 's006'])\n",
    "\n",
    "# sum of (weight x mtr)\n",
    "results = {\n",
    "    'tau_wages': sum(df.loc[(df['e00200p'] > 0) & (df['c04800'] > 0), 'mtr_e00200p'] * df.loc[(df['e00200p'] > 0) & (df['c04800'] > 0), 'wage_weight']),\n",
    "    'tau_interest': sum(df.loc[(df['e00300'] > 0) & (df['c04800'] > 0), 'mtr_e00300'] * df.loc[(df['e00300'] > 0) & (df['c04800'] > 0), 'interest_weight']),\n",
    "    'tau_dividends': sum(df.loc[(df['e00650'] > 0) & (df['c04800'] > 0), 'mtr_e00650'] * df.loc[(df['e00650'] > 0) & (df['c04800'] > 0), 'dividend_weight']),\n",
    "    'tau_ltcapgain' : sum(df.loc[(df['p23250'] > 0) & (df['c04800'] > 0), 'mtr_p23250'] * df.loc[(df['p23250'] > 0) & (df['c04800'] > 0), 'ltgains_weight']),\n",
    "    'tau_stcapgain': sum(df.loc[(df['p22250'] > 0) & (df['c04800'] > 0), 'mtr_p22250'] * df.loc[(df['p22250'] > 0) & (df['c04800'] > 0), 'stgains_weight']),\n",
    "    'tau_taxdef': sum(df.loc[(df['e01700'] > 0) & (df['c04800'] > 0), 'mtr_e01700'] * df.loc[(df['e01700'] > 0) & (df['c04800'] > 0), 'pension_weight']),\n",
    "    'tau_businc': sum(df.loc[(df['net_bus_inc'] > 0) & (df['c04800'] > 0), 'mtr_net_bus_inc'] * df.loc[(df['net_bus_inc'] > 0) & (df['c04800'] > 0), 'business_weight'])\n",
    "}\n",
    "\n",
    "results"
   ]
  },
  {
   "cell_type": "code",
   "execution_count": null,
   "metadata": {},
   "outputs": [],
   "source": [
    "# AS OF 10/01\n",
    "\n",
    "# 2021 Output -- Biden \n",
    "{ 'tau_wages': 0.22579741535205383,\n",
    " 'tau_businc': 0.23688645926320534\n",
    " 'tau_dividends': 0.22154782524778652,\n",
    "    'tau_interest': 0.32587731116122715,\n",
    "     'tau_stcapgain': 0.35316762250245715,\n",
    " 'tau_ltcapgain': 0.30317417181222733,\n",
    " 'tau_taxdef': 0.20557529276761868,\n",
    "\n",
    "# 2030 Output -- Biden \n",
    "{'tau_wages': 0.2615570975722658,\n",
    "    'tau_businc': 0.28690800605154393}\n",
    " 'tau_dividends': 0.23576880808217743,\n",
    " 'tau_interest': 0.3501197033722555,\n",
    " 'tau_stcapgain': 0.360018242929579,\n",
    " 'tau_ltcapgain': 0.302696552046099,\n",
    " 'tau_taxdef': 0.2519422134315737,\n",
    " \n",
    " # 2021 Output - Current Law\n",
    "{'tau_wages': 0.22055633310698056,\n",
    " 'tau_businc': 0.21212348629625527}\n",
    " 'tau_dividends': 0.18144637902683441,\n",
    " 'tau_interest': 0.3045090753423554,\n",
    " 'tau_stcapgain': 0.33172716752431924,\n",
    " 'tau_ltcapgain': 0.21411727367834893,\n",
    " 'tau_taxdef': 0.20432708930036364,\n",
    "\n",
    "# 2030 Output - Current Law\n",
    "{'tau_wages': 0.26270810021063296,\n",
    " 'tau_businc': 0.2826226943704139}\n",
    " 'tau_dividends': 0.19913431879864069,\n",
    " 'tau_interest': 0.34051886072557286,\n",
    " 'tau_stcapgain': 0.3519825834480394,\n",
    " 'tau_ltcapgain': 0.21957756590835306,\n",
    " 'tau_taxdef': 0.2517037725957203,"
   ]
  }
 ],
 "metadata": {
  "kernelspec": {
   "display_name": "Python 3",
   "language": "python",
   "name": "python3"
  },
  "language_info": {
   "codemirror_mode": {
    "name": "ipython",
    "version": 3
   },
   "file_extension": ".py",
   "mimetype": "text/x-python",
   "name": "python",
   "nbconvert_exporter": "python",
   "pygments_lexer": "ipython3",
   "version": "3.7.6"
  }
 },
 "nbformat": 4,
 "nbformat_minor": 2
}
